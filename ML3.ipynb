{
  "nbformat": 4,
  "nbformat_minor": 0,
  "metadata": {
    "colab": {
      "provenance": []
    },
    "kernelspec": {
      "name": "python3",
      "display_name": "Python 3"
    },
    "language_info": {
      "name": "python"
    }
  },
  "cells": [
    {
      "cell_type": "code",
      "source": [
        "!pip install scikeras"
      ],
      "metadata": {
        "colab": {
          "base_uri": "https://localhost:8080/"
        },
        "id": "NjFJj7aYcOwn",
        "outputId": "3292e82c-6f8f-4702-b539-06a180a639c7"
      },
      "execution_count": 1,
      "outputs": [
        {
          "output_type": "stream",
          "name": "stdout",
          "text": [
            "Collecting scikeras\n",
            "  Downloading scikeras-0.13.0-py3-none-any.whl.metadata (3.1 kB)\n",
            "Requirement already satisfied: keras>=3.2.0 in /usr/local/lib/python3.11/dist-packages (from scikeras) (3.8.0)\n",
            "Requirement already satisfied: scikit-learn>=1.4.2 in /usr/local/lib/python3.11/dist-packages (from scikeras) (1.6.1)\n",
            "Requirement already satisfied: absl-py in /usr/local/lib/python3.11/dist-packages (from keras>=3.2.0->scikeras) (1.4.0)\n",
            "Requirement already satisfied: numpy in /usr/local/lib/python3.11/dist-packages (from keras>=3.2.0->scikeras) (2.0.2)\n",
            "Requirement already satisfied: rich in /usr/local/lib/python3.11/dist-packages (from keras>=3.2.0->scikeras) (13.9.4)\n",
            "Requirement already satisfied: namex in /usr/local/lib/python3.11/dist-packages (from keras>=3.2.0->scikeras) (0.1.0)\n",
            "Requirement already satisfied: h5py in /usr/local/lib/python3.11/dist-packages (from keras>=3.2.0->scikeras) (3.13.0)\n",
            "Requirement already satisfied: optree in /usr/local/lib/python3.11/dist-packages (from keras>=3.2.0->scikeras) (0.16.0)\n",
            "Requirement already satisfied: ml-dtypes in /usr/local/lib/python3.11/dist-packages (from keras>=3.2.0->scikeras) (0.4.1)\n",
            "Requirement already satisfied: packaging in /usr/local/lib/python3.11/dist-packages (from keras>=3.2.0->scikeras) (24.2)\n",
            "Requirement already satisfied: scipy>=1.6.0 in /usr/local/lib/python3.11/dist-packages (from scikit-learn>=1.4.2->scikeras) (1.15.3)\n",
            "Requirement already satisfied: joblib>=1.2.0 in /usr/local/lib/python3.11/dist-packages (from scikit-learn>=1.4.2->scikeras) (1.5.1)\n",
            "Requirement already satisfied: threadpoolctl>=3.1.0 in /usr/local/lib/python3.11/dist-packages (from scikit-learn>=1.4.2->scikeras) (3.6.0)\n",
            "Requirement already satisfied: typing-extensions>=4.6.0 in /usr/local/lib/python3.11/dist-packages (from optree->keras>=3.2.0->scikeras) (4.14.0)\n",
            "Requirement already satisfied: markdown-it-py>=2.2.0 in /usr/local/lib/python3.11/dist-packages (from rich->keras>=3.2.0->scikeras) (3.0.0)\n",
            "Requirement already satisfied: pygments<3.0.0,>=2.13.0 in /usr/local/lib/python3.11/dist-packages (from rich->keras>=3.2.0->scikeras) (2.19.1)\n",
            "Requirement already satisfied: mdurl~=0.1 in /usr/local/lib/python3.11/dist-packages (from markdown-it-py>=2.2.0->rich->keras>=3.2.0->scikeras) (0.1.2)\n",
            "Downloading scikeras-0.13.0-py3-none-any.whl (26 kB)\n",
            "Installing collected packages: scikeras\n",
            "Successfully installed scikeras-0.13.0\n"
          ]
        }
      ]
    },
    {
      "cell_type": "code",
      "source": [
        "# Split the data\n",
        "import numpy as np\n",
        "import cv2\n",
        "from sklearn.datasets import load_digits\n",
        "from sklearn.model_selection import train_test_split\n",
        "from sklearn.model_selection import cross_val_score, KFold\n",
        "from sklearn.multiclass import  OneVsOneClassifier,OneVsRestClassifier\n",
        "from sklearn.svm import SVC\n",
        "import matplotlib.pyplot as plt\n",
        "# Load processed feature matrix and labels\n",
        "from sklearn.metrics import confusion_matrix, ConfusionMatrixDisplay\n",
        "from sklearn.pipeline import Pipeline, FeatureUnion\n",
        "from sklearn.dummy import DummyClassifier\n",
        "from sklearn.decomposition import PCA\n",
        "from skimage.filters import sobel\n",
        "from sklearn.preprocessing import MinMaxScaler\n",
        "from sklearn.preprocessing import StandardScaler\n",
        "from sklearn.model_selection import GridSearchCV\n",
        "from sklearn.metrics import accuracy_score\n",
        "import time\n",
        "\n",
        "import numpy as np\n",
        "import matplotlib.pyplot as plt\n",
        "import tensorflow as tf\n",
        "from tensorflow import keras\n",
        "from scikeras.wrappers import KerasClassifier\n"
      ],
      "metadata": {
        "id": "3ZZy_PJ1UdQ7"
      },
      "execution_count": 2,
      "outputs": []
    },
    {
      "cell_type": "code",
      "source": [
        "# TODO: Load data and splits if necessary\n",
        "digits = load_digits()\n",
        "X, y = digits.data, digits.target"
      ],
      "metadata": {
        "id": "3aokgHEyXUm5"
      },
      "execution_count": 3,
      "outputs": []
    },
    {
      "cell_type": "code",
      "source": [
        "\n",
        "X_train, X_test, y_train, y_test=train_test_split(X, y, test_size=0.2, random_state=42)\n",
        "\n",
        "# TODO: Create your first fully connected neural network with the following caracteristics:\n",
        "# * 1 input layer\n",
        "# * 1 hidden layer using 32 neurons\n",
        "# * Input and hidden layers shall have relu activation functions\n",
        "# * Output layer is activated with softmax\n",
        "# * As input, we consider the pixels directly -- we'll look later into using engineered features\n",
        "model = keras.Sequential([\n",
        "    keras.layers.InputLayer(input_shape=(X_train.shape[1],)),\n",
        "    keras.layers.Dense(32, activation='relu'), #sigmoid 2x plus long mais meilleurs relu diff ~0.18 de diff\n",
        "    keras.layers.Dense(10, activation='softmax')\n",
        "])\n",
        "\n",
        "\n",
        "# TODO: Compile the model (setting parameters on how the model will learn from the data)\n",
        "# Use adam optimizer, sparse categorical cross entropy as loss, and at least the accuracy as the metric\n",
        "model.compile(optimizer='adam',loss=tf.keras.losses.SparseCategoricalCrossentropy(),metrics=['accuracy'])\n",
        "#0.9527778029441833 pour adam\n",
        "\n",
        "# TODO: Train the model and store training and validation history\n",
        "history=model.fit(X_train, y_train, epochs=50, validation_data=(X_test, y_test))\n",
        "\n",
        "# TODO: Evaluate the model on the test set\n",
        "test_loss, test_accuracy=model.evaluate(X_test, y_test)\n",
        "print(f\"Test accuracy: {test_accuracy}\")\n",
        "print(model.summary())\n",
        "\n",
        "\n",
        "predict_test=np.argmax(model.predict(X_test), axis=1)\n",
        "\n",
        "cm=confusion_matrix(y_test, predict_test)\n",
        "\n",
        "# 2. Affichage graphique\n",
        "disp=ConfusionMatrixDisplay(confusion_matrix=cm, display_labels=digits.target_names)\n",
        "disp.plot(cmap=plt.cm.Blues)\n",
        "plt.title('Confusion Matrix (Test Set)')\n",
        "plt.show()"
      ],
      "metadata": {
        "id": "bvz_xUhUa6oB",
        "colab": {
          "base_uri": "https://localhost:8080/",
          "height": 1000
        },
        "outputId": "ba2de78d-d424-4e6e-f297-972194d8f837"
      },
      "execution_count": 4,
      "outputs": [
        {
          "output_type": "stream",
          "name": "stdout",
          "text": [
            "Epoch 1/50\n"
          ]
        },
        {
          "output_type": "stream",
          "name": "stderr",
          "text": [
            "/usr/local/lib/python3.11/dist-packages/keras/src/layers/core/input_layer.py:27: UserWarning: Argument `input_shape` is deprecated. Use `shape` instead.\n",
            "  warnings.warn(\n"
          ]
        },
        {
          "output_type": "stream",
          "name": "stdout",
          "text": [
            "\u001b[1m45/45\u001b[0m \u001b[32m━━━━━━━━━━━━━━━━━━━━\u001b[0m\u001b[37m\u001b[0m \u001b[1m2s\u001b[0m 16ms/step - accuracy: 0.1094 - loss: 8.7040 - val_accuracy: 0.3333 - val_loss: 2.7605\n",
            "Epoch 2/50\n",
            "\u001b[1m45/45\u001b[0m \u001b[32m━━━━━━━━━━━━━━━━━━━━\u001b[0m\u001b[37m\u001b[0m \u001b[1m1s\u001b[0m 9ms/step - accuracy: 0.4578 - loss: 2.0353 - val_accuracy: 0.7056 - val_loss: 0.9624\n",
            "Epoch 3/50\n",
            "\u001b[1m45/45\u001b[0m \u001b[32m━━━━━━━━━━━━━━━━━━━━\u001b[0m\u001b[37m\u001b[0m \u001b[1m1s\u001b[0m 10ms/step - accuracy: 0.7156 - loss: 0.8930 - val_accuracy: 0.8194 - val_loss: 0.6118\n",
            "Epoch 4/50\n",
            "\u001b[1m45/45\u001b[0m \u001b[32m━━━━━━━━━━━━━━━━━━━━\u001b[0m\u001b[37m\u001b[0m \u001b[1m1s\u001b[0m 10ms/step - accuracy: 0.8033 - loss: 0.6046 - val_accuracy: 0.8639 - val_loss: 0.4411\n",
            "Epoch 5/50\n",
            "\u001b[1m45/45\u001b[0m \u001b[32m━━━━━━━━━━━━━━━━━━━━\u001b[0m\u001b[37m\u001b[0m \u001b[1m1s\u001b[0m 9ms/step - accuracy: 0.8770 - loss: 0.4412 - val_accuracy: 0.8722 - val_loss: 0.3651\n",
            "Epoch 6/50\n",
            "\u001b[1m45/45\u001b[0m \u001b[32m━━━━━━━━━━━━━━━━━━━━\u001b[0m\u001b[37m\u001b[0m \u001b[1m1s\u001b[0m 10ms/step - accuracy: 0.8904 - loss: 0.3419 - val_accuracy: 0.9028 - val_loss: 0.2991\n",
            "Epoch 7/50\n",
            "\u001b[1m45/45\u001b[0m \u001b[32m━━━━━━━━━━━━━━━━━━━━\u001b[0m\u001b[37m\u001b[0m \u001b[1m2s\u001b[0m 32ms/step - accuracy: 0.9016 - loss: 0.2986 - val_accuracy: 0.9167 - val_loss: 0.2599\n",
            "Epoch 8/50\n",
            "\u001b[1m45/45\u001b[0m \u001b[32m━━━━━━━━━━━━━━━━━━━━\u001b[0m\u001b[37m\u001b[0m \u001b[1m2s\u001b[0m 18ms/step - accuracy: 0.9216 - loss: 0.2337 - val_accuracy: 0.9222 - val_loss: 0.2342\n",
            "Epoch 9/50\n",
            "\u001b[1m45/45\u001b[0m \u001b[32m━━━━━━━━━━━━━━━━━━━━\u001b[0m\u001b[37m\u001b[0m \u001b[1m1s\u001b[0m 7ms/step - accuracy: 0.9303 - loss: 0.2087 - val_accuracy: 0.9278 - val_loss: 0.2061\n",
            "Epoch 10/50\n",
            "\u001b[1m45/45\u001b[0m \u001b[32m━━━━━━━━━━━━━━━━━━━━\u001b[0m\u001b[37m\u001b[0m \u001b[1m0s\u001b[0m 8ms/step - accuracy: 0.9498 - loss: 0.1821 - val_accuracy: 0.9333 - val_loss: 0.1888\n",
            "Epoch 11/50\n",
            "\u001b[1m45/45\u001b[0m \u001b[32m━━━━━━━━━━━━━━━━━━━━\u001b[0m\u001b[37m\u001b[0m \u001b[1m1s\u001b[0m 11ms/step - accuracy: 0.9589 - loss: 0.1502 - val_accuracy: 0.9389 - val_loss: 0.1805\n",
            "Epoch 12/50\n",
            "\u001b[1m45/45\u001b[0m \u001b[32m━━━━━━━━━━━━━━━━━━━━\u001b[0m\u001b[37m\u001b[0m \u001b[1m1s\u001b[0m 11ms/step - accuracy: 0.9688 - loss: 0.1410 - val_accuracy: 0.9444 - val_loss: 0.1714\n",
            "Epoch 13/50\n",
            "\u001b[1m45/45\u001b[0m \u001b[32m━━━━━━━━━━━━━━━━━━━━\u001b[0m\u001b[37m\u001b[0m \u001b[1m1s\u001b[0m 11ms/step - accuracy: 0.9665 - loss: 0.1358 - val_accuracy: 0.9444 - val_loss: 0.1645\n",
            "Epoch 14/50\n",
            "\u001b[1m45/45\u001b[0m \u001b[32m━━━━━━━━━━━━━━━━━━━━\u001b[0m\u001b[37m\u001b[0m \u001b[1m1s\u001b[0m 13ms/step - accuracy: 0.9797 - loss: 0.0934 - val_accuracy: 0.9472 - val_loss: 0.1581\n",
            "Epoch 15/50\n",
            "\u001b[1m45/45\u001b[0m \u001b[32m━━━━━━━━━━━━━━━━━━━━\u001b[0m\u001b[37m\u001b[0m \u001b[1m1s\u001b[0m 9ms/step - accuracy: 0.9696 - loss: 0.1300 - val_accuracy: 0.9528 - val_loss: 0.1500\n",
            "Epoch 16/50\n",
            "\u001b[1m45/45\u001b[0m \u001b[32m━━━━━━━━━━━━━━━━━━━━\u001b[0m\u001b[37m\u001b[0m \u001b[1m1s\u001b[0m 12ms/step - accuracy: 0.9765 - loss: 0.1012 - val_accuracy: 0.9583 - val_loss: 0.1465\n",
            "Epoch 17/50\n",
            "\u001b[1m45/45\u001b[0m \u001b[32m━━━━━━━━━━━━━━━━━━━━\u001b[0m\u001b[37m\u001b[0m \u001b[1m1s\u001b[0m 16ms/step - accuracy: 0.9806 - loss: 0.0869 - val_accuracy: 0.9583 - val_loss: 0.1379\n",
            "Epoch 18/50\n",
            "\u001b[1m45/45\u001b[0m \u001b[32m━━━━━━━━━━━━━━━━━━━━\u001b[0m\u001b[37m\u001b[0m \u001b[1m1s\u001b[0m 14ms/step - accuracy: 0.9770 - loss: 0.0885 - val_accuracy: 0.9556 - val_loss: 0.1375\n",
            "Epoch 19/50\n",
            "\u001b[1m45/45\u001b[0m \u001b[32m━━━━━━━━━━━━━━━━━━━━\u001b[0m\u001b[37m\u001b[0m \u001b[1m1s\u001b[0m 14ms/step - accuracy: 0.9863 - loss: 0.0703 - val_accuracy: 0.9611 - val_loss: 0.1339\n",
            "Epoch 20/50\n",
            "\u001b[1m45/45\u001b[0m \u001b[32m━━━━━━━━━━━━━━━━━━━━\u001b[0m\u001b[37m\u001b[0m \u001b[1m1s\u001b[0m 6ms/step - accuracy: 0.9871 - loss: 0.0640 - val_accuracy: 0.9583 - val_loss: 0.1280\n",
            "Epoch 21/50\n",
            "\u001b[1m45/45\u001b[0m \u001b[32m━━━━━━━━━━━━━━━━━━━━\u001b[0m\u001b[37m\u001b[0m \u001b[1m0s\u001b[0m 7ms/step - accuracy: 0.9848 - loss: 0.0671 - val_accuracy: 0.9583 - val_loss: 0.1248\n",
            "Epoch 22/50\n",
            "\u001b[1m45/45\u001b[0m \u001b[32m━━━━━━━━━━━━━━━━━━━━\u001b[0m\u001b[37m\u001b[0m \u001b[1m1s\u001b[0m 8ms/step - accuracy: 0.9872 - loss: 0.0552 - val_accuracy: 0.9667 - val_loss: 0.1238\n",
            "Epoch 23/50\n",
            "\u001b[1m45/45\u001b[0m \u001b[32m━━━━━━━━━━━━━━━━━━━━\u001b[0m\u001b[37m\u001b[0m \u001b[1m0s\u001b[0m 9ms/step - accuracy: 0.9896 - loss: 0.0496 - val_accuracy: 0.9667 - val_loss: 0.1268\n",
            "Epoch 24/50\n",
            "\u001b[1m45/45\u001b[0m \u001b[32m━━━━━━━━━━━━━━━━━━━━\u001b[0m\u001b[37m\u001b[0m \u001b[1m0s\u001b[0m 5ms/step - accuracy: 0.9893 - loss: 0.0547 - val_accuracy: 0.9639 - val_loss: 0.1171\n",
            "Epoch 25/50\n",
            "\u001b[1m45/45\u001b[0m \u001b[32m━━━━━━━━━━━━━━━━━━━━\u001b[0m\u001b[37m\u001b[0m \u001b[1m0s\u001b[0m 4ms/step - accuracy: 0.9941 - loss: 0.0423 - val_accuracy: 0.9667 - val_loss: 0.1165\n",
            "Epoch 26/50\n",
            "\u001b[1m45/45\u001b[0m \u001b[32m━━━━━━━━━━━━━━━━━━━━\u001b[0m\u001b[37m\u001b[0m \u001b[1m0s\u001b[0m 5ms/step - accuracy: 0.9941 - loss: 0.0404 - val_accuracy: 0.9667 - val_loss: 0.1146\n",
            "Epoch 27/50\n",
            "\u001b[1m45/45\u001b[0m \u001b[32m━━━━━━━━━━━━━━━━━━━━\u001b[0m\u001b[37m\u001b[0m \u001b[1m0s\u001b[0m 4ms/step - accuracy: 0.9927 - loss: 0.0457 - val_accuracy: 0.9722 - val_loss: 0.1142\n",
            "Epoch 28/50\n",
            "\u001b[1m45/45\u001b[0m \u001b[32m━━━━━━━━━━━━━━━━━━━━\u001b[0m\u001b[37m\u001b[0m \u001b[1m0s\u001b[0m 4ms/step - accuracy: 0.9957 - loss: 0.0350 - val_accuracy: 0.9639 - val_loss: 0.1139\n",
            "Epoch 29/50\n",
            "\u001b[1m45/45\u001b[0m \u001b[32m━━━━━━━━━━━━━━━━━━━━\u001b[0m\u001b[37m\u001b[0m \u001b[1m0s\u001b[0m 4ms/step - accuracy: 0.9929 - loss: 0.0345 - val_accuracy: 0.9722 - val_loss: 0.1098\n",
            "Epoch 30/50\n",
            "\u001b[1m45/45\u001b[0m \u001b[32m━━━━━━━━━━━━━━━━━━━━\u001b[0m\u001b[37m\u001b[0m \u001b[1m0s\u001b[0m 4ms/step - accuracy: 0.9974 - loss: 0.0280 - val_accuracy: 0.9722 - val_loss: 0.1186\n",
            "Epoch 31/50\n",
            "\u001b[1m45/45\u001b[0m \u001b[32m━━━━━━━━━━━━━━━━━━━━\u001b[0m\u001b[37m\u001b[0m \u001b[1m0s\u001b[0m 4ms/step - accuracy: 0.9974 - loss: 0.0309 - val_accuracy: 0.9667 - val_loss: 0.1134\n",
            "Epoch 32/50\n",
            "\u001b[1m45/45\u001b[0m \u001b[32m━━━━━━━━━━━━━━━━━━━━\u001b[0m\u001b[37m\u001b[0m \u001b[1m0s\u001b[0m 4ms/step - accuracy: 0.9966 - loss: 0.0276 - val_accuracy: 0.9722 - val_loss: 0.1108\n",
            "Epoch 33/50\n",
            "\u001b[1m45/45\u001b[0m \u001b[32m━━━━━━━━━━━━━━━━━━━━\u001b[0m\u001b[37m\u001b[0m \u001b[1m0s\u001b[0m 4ms/step - accuracy: 0.9991 - loss: 0.0240 - val_accuracy: 0.9722 - val_loss: 0.1083\n",
            "Epoch 34/50\n",
            "\u001b[1m45/45\u001b[0m \u001b[32m━━━━━━━━━━━━━━━━━━━━\u001b[0m\u001b[37m\u001b[0m \u001b[1m0s\u001b[0m 4ms/step - accuracy: 0.9950 - loss: 0.0279 - val_accuracy: 0.9722 - val_loss: 0.1081\n",
            "Epoch 35/50\n",
            "\u001b[1m45/45\u001b[0m \u001b[32m━━━━━━━━━━━━━━━━━━━━\u001b[0m\u001b[37m\u001b[0m \u001b[1m0s\u001b[0m 4ms/step - accuracy: 0.9977 - loss: 0.0257 - val_accuracy: 0.9722 - val_loss: 0.1065\n",
            "Epoch 36/50\n",
            "\u001b[1m45/45\u001b[0m \u001b[32m━━━━━━━━━━━━━━━━━━━━\u001b[0m\u001b[37m\u001b[0m \u001b[1m0s\u001b[0m 4ms/step - accuracy: 0.9990 - loss: 0.0224 - val_accuracy: 0.9722 - val_loss: 0.1062\n",
            "Epoch 37/50\n",
            "\u001b[1m45/45\u001b[0m \u001b[32m━━━━━━━━━━━━━━━━━━━━\u001b[0m\u001b[37m\u001b[0m \u001b[1m0s\u001b[0m 8ms/step - accuracy: 0.9986 - loss: 0.0193 - val_accuracy: 0.9750 - val_loss: 0.1065\n",
            "Epoch 38/50\n",
            "\u001b[1m45/45\u001b[0m \u001b[32m━━━━━━━━━━━━━━━━━━━━\u001b[0m\u001b[37m\u001b[0m \u001b[1m0s\u001b[0m 4ms/step - accuracy: 0.9968 - loss: 0.0237 - val_accuracy: 0.9722 - val_loss: 0.1043\n",
            "Epoch 39/50\n",
            "\u001b[1m45/45\u001b[0m \u001b[32m━━━━━━━━━━━━━━━━━━━━\u001b[0m\u001b[37m\u001b[0m \u001b[1m0s\u001b[0m 5ms/step - accuracy: 0.9994 - loss: 0.0190 - val_accuracy: 0.9750 - val_loss: 0.1067\n",
            "Epoch 40/50\n",
            "\u001b[1m45/45\u001b[0m \u001b[32m━━━━━━━━━━━━━━━━━━━━\u001b[0m\u001b[37m\u001b[0m \u001b[1m0s\u001b[0m 4ms/step - accuracy: 1.0000 - loss: 0.0154 - val_accuracy: 0.9722 - val_loss: 0.1052\n",
            "Epoch 41/50\n",
            "\u001b[1m45/45\u001b[0m \u001b[32m━━━━━━━━━━━━━━━━━━━━\u001b[0m\u001b[37m\u001b[0m \u001b[1m0s\u001b[0m 5ms/step - accuracy: 1.0000 - loss: 0.0165 - val_accuracy: 0.9750 - val_loss: 0.1048\n",
            "Epoch 42/50\n",
            "\u001b[1m45/45\u001b[0m \u001b[32m━━━━━━━━━━━━━━━━━━━━\u001b[0m\u001b[37m\u001b[0m \u001b[1m0s\u001b[0m 5ms/step - accuracy: 0.9989 - loss: 0.0153 - val_accuracy: 0.9750 - val_loss: 0.1047\n",
            "Epoch 43/50\n",
            "\u001b[1m45/45\u001b[0m \u001b[32m━━━━━━━━━━━━━━━━━━━━\u001b[0m\u001b[37m\u001b[0m \u001b[1m0s\u001b[0m 5ms/step - accuracy: 0.9987 - loss: 0.0154 - val_accuracy: 0.9750 - val_loss: 0.1052\n",
            "Epoch 44/50\n",
            "\u001b[1m45/45\u001b[0m \u001b[32m━━━━━━━━━━━━━━━━━━━━\u001b[0m\u001b[37m\u001b[0m \u001b[1m0s\u001b[0m 4ms/step - accuracy: 0.9999 - loss: 0.0131 - val_accuracy: 0.9750 - val_loss: 0.1067\n",
            "Epoch 45/50\n",
            "\u001b[1m45/45\u001b[0m \u001b[32m━━━━━━━━━━━━━━━━━━━━\u001b[0m\u001b[37m\u001b[0m \u001b[1m0s\u001b[0m 5ms/step - accuracy: 0.9999 - loss: 0.0128 - val_accuracy: 0.9750 - val_loss: 0.1047\n",
            "Epoch 46/50\n",
            "\u001b[1m45/45\u001b[0m \u001b[32m━━━━━━━━━━━━━━━━━━━━\u001b[0m\u001b[37m\u001b[0m \u001b[1m0s\u001b[0m 4ms/step - accuracy: 1.0000 - loss: 0.0122 - val_accuracy: 0.9722 - val_loss: 0.1047\n",
            "Epoch 47/50\n",
            "\u001b[1m45/45\u001b[0m \u001b[32m━━━━━━━━━━━━━━━━━━━━\u001b[0m\u001b[37m\u001b[0m \u001b[1m0s\u001b[0m 4ms/step - accuracy: 1.0000 - loss: 0.0130 - val_accuracy: 0.9778 - val_loss: 0.1045\n",
            "Epoch 48/50\n",
            "\u001b[1m45/45\u001b[0m \u001b[32m━━━━━━━━━━━━━━━━━━━━\u001b[0m\u001b[37m\u001b[0m \u001b[1m0s\u001b[0m 4ms/step - accuracy: 0.9999 - loss: 0.0120 - val_accuracy: 0.9722 - val_loss: 0.1045\n",
            "Epoch 49/50\n",
            "\u001b[1m45/45\u001b[0m \u001b[32m━━━━━━━━━━━━━━━━━━━━\u001b[0m\u001b[37m\u001b[0m \u001b[1m0s\u001b[0m 4ms/step - accuracy: 1.0000 - loss: 0.0109 - val_accuracy: 0.9750 - val_loss: 0.1025\n",
            "Epoch 50/50\n",
            "\u001b[1m45/45\u001b[0m \u001b[32m━━━━━━━━━━━━━━━━━━━━\u001b[0m\u001b[37m\u001b[0m \u001b[1m0s\u001b[0m 4ms/step - accuracy: 1.0000 - loss: 0.0110 - val_accuracy: 0.9750 - val_loss: 0.1044\n",
            "\u001b[1m12/12\u001b[0m \u001b[32m━━━━━━━━━━━━━━━━━━━━\u001b[0m\u001b[37m\u001b[0m \u001b[1m0s\u001b[0m 4ms/step - accuracy: 0.9840 - loss: 0.0782 \n",
            "Test accuracy: 0.9750000238418579\n"
          ]
        },
        {
          "output_type": "display_data",
          "data": {
            "text/plain": [
              "\u001b[1mModel: \"sequential\"\u001b[0m\n"
            ],
            "text/html": [
              "<pre style=\"white-space:pre;overflow-x:auto;line-height:normal;font-family:Menlo,'DejaVu Sans Mono',consolas,'Courier New',monospace\"><span style=\"font-weight: bold\">Model: \"sequential\"</span>\n",
              "</pre>\n"
            ]
          },
          "metadata": {}
        },
        {
          "output_type": "display_data",
          "data": {
            "text/plain": [
              "┏━━━━━━━━━━━━━━━━━━━━━━━━━━━━━━━━━┳━━━━━━━━━━━━━━━━━━━━━━━━┳━━━━━━━━━━━━━━━┓\n",
              "┃\u001b[1m \u001b[0m\u001b[1mLayer (type)                   \u001b[0m\u001b[1m \u001b[0m┃\u001b[1m \u001b[0m\u001b[1mOutput Shape          \u001b[0m\u001b[1m \u001b[0m┃\u001b[1m \u001b[0m\u001b[1m      Param #\u001b[0m\u001b[1m \u001b[0m┃\n",
              "┡━━━━━━━━━━━━━━━━━━━━━━━━━━━━━━━━━╇━━━━━━━━━━━━━━━━━━━━━━━━╇━━━━━━━━━━━━━━━┩\n",
              "│ dense (\u001b[38;5;33mDense\u001b[0m)                   │ (\u001b[38;5;45mNone\u001b[0m, \u001b[38;5;34m32\u001b[0m)             │         \u001b[38;5;34m2,080\u001b[0m │\n",
              "├─────────────────────────────────┼────────────────────────┼───────────────┤\n",
              "│ dense_1 (\u001b[38;5;33mDense\u001b[0m)                 │ (\u001b[38;5;45mNone\u001b[0m, \u001b[38;5;34m10\u001b[0m)             │           \u001b[38;5;34m330\u001b[0m │\n",
              "└─────────────────────────────────┴────────────────────────┴───────────────┘\n"
            ],
            "text/html": [
              "<pre style=\"white-space:pre;overflow-x:auto;line-height:normal;font-family:Menlo,'DejaVu Sans Mono',consolas,'Courier New',monospace\">┏━━━━━━━━━━━━━━━━━━━━━━━━━━━━━━━━━┳━━━━━━━━━━━━━━━━━━━━━━━━┳━━━━━━━━━━━━━━━┓\n",
              "┃<span style=\"font-weight: bold\"> Layer (type)                    </span>┃<span style=\"font-weight: bold\"> Output Shape           </span>┃<span style=\"font-weight: bold\">       Param # </span>┃\n",
              "┡━━━━━━━━━━━━━━━━━━━━━━━━━━━━━━━━━╇━━━━━━━━━━━━━━━━━━━━━━━━╇━━━━━━━━━━━━━━━┩\n",
              "│ dense (<span style=\"color: #0087ff; text-decoration-color: #0087ff\">Dense</span>)                   │ (<span style=\"color: #00d7ff; text-decoration-color: #00d7ff\">None</span>, <span style=\"color: #00af00; text-decoration-color: #00af00\">32</span>)             │         <span style=\"color: #00af00; text-decoration-color: #00af00\">2,080</span> │\n",
              "├─────────────────────────────────┼────────────────────────┼───────────────┤\n",
              "│ dense_1 (<span style=\"color: #0087ff; text-decoration-color: #0087ff\">Dense</span>)                 │ (<span style=\"color: #00d7ff; text-decoration-color: #00d7ff\">None</span>, <span style=\"color: #00af00; text-decoration-color: #00af00\">10</span>)             │           <span style=\"color: #00af00; text-decoration-color: #00af00\">330</span> │\n",
              "└─────────────────────────────────┴────────────────────────┴───────────────┘\n",
              "</pre>\n"
            ]
          },
          "metadata": {}
        },
        {
          "output_type": "display_data",
          "data": {
            "text/plain": [
              "\u001b[1m Total params: \u001b[0m\u001b[38;5;34m7,232\u001b[0m (28.25 KB)\n"
            ],
            "text/html": [
              "<pre style=\"white-space:pre;overflow-x:auto;line-height:normal;font-family:Menlo,'DejaVu Sans Mono',consolas,'Courier New',monospace\"><span style=\"font-weight: bold\"> Total params: </span><span style=\"color: #00af00; text-decoration-color: #00af00\">7,232</span> (28.25 KB)\n",
              "</pre>\n"
            ]
          },
          "metadata": {}
        },
        {
          "output_type": "display_data",
          "data": {
            "text/plain": [
              "\u001b[1m Trainable params: \u001b[0m\u001b[38;5;34m2,410\u001b[0m (9.41 KB)\n"
            ],
            "text/html": [
              "<pre style=\"white-space:pre;overflow-x:auto;line-height:normal;font-family:Menlo,'DejaVu Sans Mono',consolas,'Courier New',monospace\"><span style=\"font-weight: bold\"> Trainable params: </span><span style=\"color: #00af00; text-decoration-color: #00af00\">2,410</span> (9.41 KB)\n",
              "</pre>\n"
            ]
          },
          "metadata": {}
        },
        {
          "output_type": "display_data",
          "data": {
            "text/plain": [
              "\u001b[1m Non-trainable params: \u001b[0m\u001b[38;5;34m0\u001b[0m (0.00 B)\n"
            ],
            "text/html": [
              "<pre style=\"white-space:pre;overflow-x:auto;line-height:normal;font-family:Menlo,'DejaVu Sans Mono',consolas,'Courier New',monospace\"><span style=\"font-weight: bold\"> Non-trainable params: </span><span style=\"color: #00af00; text-decoration-color: #00af00\">0</span> (0.00 B)\n",
              "</pre>\n"
            ]
          },
          "metadata": {}
        },
        {
          "output_type": "display_data",
          "data": {
            "text/plain": [
              "\u001b[1m Optimizer params: \u001b[0m\u001b[38;5;34m4,822\u001b[0m (18.84 KB)\n"
            ],
            "text/html": [
              "<pre style=\"white-space:pre;overflow-x:auto;line-height:normal;font-family:Menlo,'DejaVu Sans Mono',consolas,'Courier New',monospace\"><span style=\"font-weight: bold\"> Optimizer params: </span><span style=\"color: #00af00; text-decoration-color: #00af00\">4,822</span> (18.84 KB)\n",
              "</pre>\n"
            ]
          },
          "metadata": {}
        },
        {
          "output_type": "stream",
          "name": "stdout",
          "text": [
            "None\n",
            "\u001b[1m12/12\u001b[0m \u001b[32m━━━━━━━━━━━━━━━━━━━━\u001b[0m\u001b[37m\u001b[0m \u001b[1m0s\u001b[0m 8ms/step\n"
          ]
        },
        {
          "output_type": "display_data",
          "data": {
            "text/plain": [
              "<Figure size 640x480 with 2 Axes>"
            ],
            "image/png": "[encoded data removed]"
          },
          "metadata": {}
        }
      ]
    },
    {
      "cell_type": "code",
      "source": [
        "# Extract loss values\n",
        "train_loss = history.history['loss']\n",
        "val_loss = history.history['val_loss']\n",
        "\n",
        "# Plot loss vs epochs\n",
        "plt.figure(figsize=(8, 5))\n",
        "plt.plot(range(1, len(train_loss) + 1), train_loss, label='Training Loss', marker='o')\n",
        "plt.plot(range(1, len(val_loss) + 1), val_loss, label='Validation Loss', marker='s')\n",
        "plt.xlabel(\"Epochs\")\n",
        "plt.yscale(\"log\")  # Apply log scale to the y-axis\n",
        "plt.ylabel(\"Loss\")\n",
        "plt.title(\"Loss vs Epochs\")\n",
        "plt.legend()\n",
        "plt.grid()\n",
        "plt.show()\n",
        "\n",
        "# Save the trained model\n",
        "model.save(\"digit_classifier_model.keras\")  # Native Keras format"
      ],
      "metadata": {
        "colab": {
          "base_uri": "https://localhost:8080/",
          "height": 487
        },
        "id": "6pxpS12Obj_Z",
        "outputId": "0ad0aca5-b780-4315-94b5-12a92c6d13c3"
      },
      "execution_count": 5,
      "outputs": [
        {
          "output_type": "display_data",
          "data": {
            "text/plain": [
              "<Figure size 800x500 with 1 Axes>"
            ],
            "image/png": "[encoded data removed]"
          },
          "metadata": {}
        }
      ]
    },
    {
      "cell_type": "code",
      "source": [
        "#Comparaison de test accuracy en fonctions du nombres de couches de neuronnes et de leurs nombres, des paramètres d'activations et de l'optimiseur\n",
        "def build_model(n_layers, n_neurons, activation='relu', optimizer='adam'):\n",
        "    model=keras.Sequential()\n",
        "    #couche d'entrée\n",
        "    model.add(keras.layers.InputLayer(input_shape=(X_train.shape[1],)))\n",
        "    #couches successives\n",
        "    for _ in range(n_layers):\n",
        "        model.add(keras.layers.Dense(n_neurons, activation=activation))\n",
        "    #couche de sortie\n",
        "    model.add(keras.layers.Dense(10, activation='softmax'))\n",
        "\n",
        "    model.compile(optimizer=optimizer,loss=tf.keras.losses.SparseCategoricalCrossentropy(), metrics=['accuracy'])\n",
        "    return model\n",
        "\n",
        "# Hyperparamètres de test\n",
        "param_grid={\n",
        "    'n_layers': [1, 2, 3],\n",
        "    'n_neurons': [32, 64, 128],\n",
        "    'activation': ['relu', 'sigmoid'],\n",
        "    'optimizer': ['adam', 'rmsprop']\n",
        "}\n",
        "\n",
        "results={}\n",
        "\n",
        "for n_layers in param_grid['n_layers']:\n",
        "    for n_neurons in param_grid['n_neurons']:\n",
        "        for activation in param_grid['activation']:\n",
        "            for optimizer in param_grid['optimizer']:\n",
        "                print(f\"Training avec n_layers: {n_layers}, n_neurons: {n_neurons}, activation: {activation}, optimizer: {optimizer}\")\n",
        "\n",
        "                model=build_model(n_layers, n_neurons, activation, optimizer)\n",
        "                history=model.fit(X_train, y_train, epochs=50, validation_data=(X_test, y_test), verbose=0)\n",
        "\n",
        "                test_loss, test_accuracy = model.evaluate(X_test, y_test, verbose=0)\n",
        "                print(f\"  Test accuracy: {test_accuracy}\")\n",
        "\n",
        "                key = f\"Layers: {n_layers}, Neurons: {n_neurons}, Activation: {activation}, Optimizer: {optimizer}\"\n",
        "                results[key] = test_accuracy\n",
        "\n",
        "# Print les résultats\n",
        "print(\"\\n--- Résultats ---\")\n",
        "for key, accuracy in results.items():\n",
        "    print(f\"{key}: {accuracy}\")\n",
        "\n",
        "best_config=max(results, key=results.get)\n",
        "print(f\"\\nBest configuration: {best_config} avec accuracy: {results[best_config]}\")\n"
      ],
      "metadata": {
        "id": "6JpeMPZyy_rt"
      },
      "execution_count": null,
      "outputs": []
    },
    {
      "cell_type": "markdown",
      "source": [
        "\n",
        "```\n",
        "--- Résultats ---\n",
        "Layers: 1, Neurons: 32, Activation: relu, Optimizer: adam: 0.9611111283302307\n",
        "Layers: 1, Neurons: 32, Activation: relu, Optimizer: rmsprop: 0.9777777791023254\n",
        "Layers: 1, Neurons: 32, Activation: sigmoid, Optimizer: adam: 0.9638888835906982\n",
        "Layers: 1, Neurons: 32, Activation: sigmoid, Optimizer: rmsprop: 0.980555534362793\n",
        "Layers: 1, Neurons: 64, Activation: relu, Optimizer: adam: 0.980555534362793\n",
        "Layers: 1, Neurons: 64, Activation: relu, Optimizer: rmsprop: 0.980555534362793\n",
        "Layers: 1, Neurons: 64, Activation: sigmoid, Optimizer: adam: 0.9777777791023254\n",
        "Layers: 1, Neurons: 64, Activation: sigmoid, Optimizer: rmsprop: 0.9777777791023254\n",
        "Layers: 1, Neurons: 128, Activation: relu, Optimizer: adam: 0.980555534362793\n",
        "Layers: 1, Neurons: 128, Activation: relu, Optimizer: rmsprop: 0.9833333492279053\n",
        "Layers: 1, Neurons: 128, Activation: sigmoid, Optimizer: adam: 0.9777777791023254\n",
        "Layers: 1, Neurons: 128, Activation: sigmoid, Optimizer: rmsprop: 0.980555534362793\n",
        "Layers: 2, Neurons: 32, Activation: relu, Optimizer: adam: 0.9666666388511658\n",
        "Layers: 2, Neurons: 32, Activation: relu, Optimizer: rmsprop: 0.9777777791023254\n",
        "Layers: 2, Neurons: 32, Activation: sigmoid, Optimizer: adam: 0.9555555582046509\n",
        "Layers: 2, Neurons: 32, Activation: sigmoid, Optimizer: rmsprop: 0.9666666388511658\n",
        "Layers: 2, Neurons: 64, Activation: relu, Optimizer: adam: 0.9722222089767456\n",
        "Layers: 2, Neurons: 64, Activation: relu, Optimizer: rmsprop: 0.9861111044883728\n",
        "Layers: 2, Neurons: 64, Activation: sigmoid, Optimizer: adam: 0.980555534362793\n",
        "Layers: 2, Neurons: 64, Activation: sigmoid, Optimizer: rmsprop: 0.9777777791023254\n",
        "Layers: 2, Neurons: 128, Activation: relu, Optimizer: adam: 0.9833333492279053\n",
        "Layers: 2, Neurons: 128, Activation: relu, Optimizer: rmsprop: 0.9861111044883728\n",
        "Layers: 2, Neurons: 128, Activation: sigmoid, Optimizer: adam: 0.9694444537162781\n",
        "Layers: 2, Neurons: 128, Activation: sigmoid, Optimizer: rmsprop: 0.9777777791023254\n",
        "Layers: 3, Neurons: 32, Activation: relu, Optimizer: adam: 0.9638888835906982\n",
        "Layers: 3, Neurons: 32, Activation: relu, Optimizer: rmsprop: 0.9750000238418579\n",
        "Layers: 3, Neurons: 32, Activation: sigmoid, Optimizer: adam: 0.9555555582046509\n",
        "Layers: 3, Neurons: 32, Activation: sigmoid, Optimizer: rmsprop: 0.9638888835906982\n",
        "Layers: 3, Neurons: 64, Activation: relu, Optimizer: adam: 0.9777777791023254\n",
        "Layers: 3, Neurons: 64, Activation: relu, Optimizer: rmsprop: 0.9777777791023254\n",
        "Layers: 3, Neurons: 64, Activation: sigmoid, Optimizer: adam: 0.9638888835906982\n",
        "Layers: 3, Neurons: 64, Activation: sigmoid, Optimizer: rmsprop: 0.9722222089767456\n",
        "Layers: 3, Neurons: 128, Activation: relu, Optimizer: adam: 0.9861111044883728\n",
        "Layers: 3, Neurons: 128, Activation: relu, Optimizer: rmsprop: 0.9888888597488403\n",
        "Layers: 3, Neurons: 128, Activation: sigmoid, Optimizer: adam: 0.9750000238418579\n",
        "Layers: 3, Neurons: 128, Activation: sigmoid, Optimizer: rmsprop: 0.9722222089767456\n",
        "\n",
        "Best configuration: Layers: 3, Neurons: 128, Activation: relu, Optimizer: rmsprop avec accuracy: 0.9888888597488403\n",
        "\n",
        "\n",
        "```\n",
        "\n"
      ],
      "metadata": {
        "id": "h-Q51r-1zBT_"
      }
    }
  ]
}